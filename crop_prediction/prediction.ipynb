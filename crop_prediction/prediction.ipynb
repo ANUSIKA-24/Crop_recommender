{
 "cells": [
  {
   "cell_type": "code",
   "execution_count": 1,
   "id": "da8136cb",
   "metadata": {},
   "outputs": [],
   "source": [
    "from __future__ import print_function\n",
    "import pandas as pd\n",
    "import numpy as np\n",
    "import matplotlib.pyplot as plt\n",
    "import seaborn as sns\n",
    "from sklearn.metrics import classification_report\n",
    "from sklearn import metrics\n",
    "from sklearn import tree\n",
    "import warnings\n",
    "warnings.filterwarnings('ignore')"
   ]
  },
  {
   "cell_type": "code",
   "execution_count": 2,
   "id": "dee4ff01",
   "metadata": {},
   "outputs": [],
   "source": [
    "df = pd.read_csv('cpdata.csv')"
   ]
  },
  {
   "cell_type": "code",
   "execution_count": 3,
   "id": "3f800483",
   "metadata": {},
   "outputs": [
    {
     "data": {
      "text/html": [
       "<div>\n",
       "<style scoped>\n",
       "    .dataframe tbody tr th:only-of-type {\n",
       "        vertical-align: middle;\n",
       "    }\n",
       "\n",
       "    .dataframe tbody tr th {\n",
       "        vertical-align: top;\n",
       "    }\n",
       "\n",
       "    .dataframe thead th {\n",
       "        text-align: right;\n",
       "    }\n",
       "</style>\n",
       "<table border=\"1\" class=\"dataframe\">\n",
       "  <thead>\n",
       "    <tr style=\"text-align: right;\">\n",
       "      <th></th>\n",
       "      <th>temperature</th>\n",
       "      <th>humidity</th>\n",
       "      <th>ph</th>\n",
       "      <th>rainfall</th>\n",
       "      <th>label</th>\n",
       "    </tr>\n",
       "  </thead>\n",
       "  <tbody>\n",
       "    <tr>\n",
       "      <th>0</th>\n",
       "      <td>20.879744</td>\n",
       "      <td>82.002744</td>\n",
       "      <td>6.502985</td>\n",
       "      <td>202.935536</td>\n",
       "      <td>rice</td>\n",
       "    </tr>\n",
       "    <tr>\n",
       "      <th>1</th>\n",
       "      <td>21.770462</td>\n",
       "      <td>80.319644</td>\n",
       "      <td>7.038096</td>\n",
       "      <td>226.655537</td>\n",
       "      <td>rice</td>\n",
       "    </tr>\n",
       "    <tr>\n",
       "      <th>2</th>\n",
       "      <td>23.004459</td>\n",
       "      <td>82.320763</td>\n",
       "      <td>7.840207</td>\n",
       "      <td>263.964248</td>\n",
       "      <td>rice</td>\n",
       "    </tr>\n",
       "    <tr>\n",
       "      <th>3</th>\n",
       "      <td>26.491096</td>\n",
       "      <td>80.158363</td>\n",
       "      <td>6.980401</td>\n",
       "      <td>242.864034</td>\n",
       "      <td>rice</td>\n",
       "    </tr>\n",
       "    <tr>\n",
       "      <th>4</th>\n",
       "      <td>20.130175</td>\n",
       "      <td>81.604873</td>\n",
       "      <td>7.628473</td>\n",
       "      <td>262.717340</td>\n",
       "      <td>rice</td>\n",
       "    </tr>\n",
       "  </tbody>\n",
       "</table>\n",
       "</div>"
      ],
      "text/plain": [
       "   temperature   humidity        ph    rainfall label\n",
       "0    20.879744  82.002744  6.502985  202.935536  rice\n",
       "1    21.770462  80.319644  7.038096  226.655537  rice\n",
       "2    23.004459  82.320763  7.840207  263.964248  rice\n",
       "3    26.491096  80.158363  6.980401  242.864034  rice\n",
       "4    20.130175  81.604873  7.628473  262.717340  rice"
      ]
     },
     "execution_count": 3,
     "metadata": {},
     "output_type": "execute_result"
    }
   ],
   "source": [
    "df.head()"
   ]
  },
  {
   "cell_type": "code",
   "execution_count": 4,
   "id": "6046affc",
   "metadata": {},
   "outputs": [
    {
     "data": {
      "text/html": [
       "<div>\n",
       "<style scoped>\n",
       "    .dataframe tbody tr th:only-of-type {\n",
       "        vertical-align: middle;\n",
       "    }\n",
       "\n",
       "    .dataframe tbody tr th {\n",
       "        vertical-align: top;\n",
       "    }\n",
       "\n",
       "    .dataframe thead th {\n",
       "        text-align: right;\n",
       "    }\n",
       "</style>\n",
       "<table border=\"1\" class=\"dataframe\">\n",
       "  <thead>\n",
       "    <tr style=\"text-align: right;\">\n",
       "      <th></th>\n",
       "      <th>temperature</th>\n",
       "      <th>humidity</th>\n",
       "      <th>ph</th>\n",
       "      <th>rainfall</th>\n",
       "      <th>label</th>\n",
       "    </tr>\n",
       "  </thead>\n",
       "  <tbody>\n",
       "    <tr>\n",
       "      <th>3095</th>\n",
       "      <td>25.287846</td>\n",
       "      <td>89.636679</td>\n",
       "      <td>6.765095</td>\n",
       "      <td>58.286977</td>\n",
       "      <td>watermelon</td>\n",
       "    </tr>\n",
       "    <tr>\n",
       "      <th>3096</th>\n",
       "      <td>26.638386</td>\n",
       "      <td>84.695469</td>\n",
       "      <td>6.189214</td>\n",
       "      <td>48.324286</td>\n",
       "      <td>watermelon</td>\n",
       "    </tr>\n",
       "    <tr>\n",
       "      <th>3097</th>\n",
       "      <td>25.331045</td>\n",
       "      <td>84.305338</td>\n",
       "      <td>6.904242</td>\n",
       "      <td>41.532187</td>\n",
       "      <td>watermelon</td>\n",
       "    </tr>\n",
       "    <tr>\n",
       "      <th>3098</th>\n",
       "      <td>26.897502</td>\n",
       "      <td>83.892415</td>\n",
       "      <td>6.463271</td>\n",
       "      <td>43.971937</td>\n",
       "      <td>watermelon</td>\n",
       "    </tr>\n",
       "    <tr>\n",
       "      <th>3099</th>\n",
       "      <td>26.986037</td>\n",
       "      <td>89.413849</td>\n",
       "      <td>6.260839</td>\n",
       "      <td>58.548767</td>\n",
       "      <td>watermelon</td>\n",
       "    </tr>\n",
       "  </tbody>\n",
       "</table>\n",
       "</div>"
      ],
      "text/plain": [
       "      temperature   humidity        ph   rainfall       label\n",
       "3095    25.287846  89.636679  6.765095  58.286977  watermelon\n",
       "3096    26.638386  84.695469  6.189214  48.324286  watermelon\n",
       "3097    25.331045  84.305338  6.904242  41.532187  watermelon\n",
       "3098    26.897502  83.892415  6.463271  43.971937  watermelon\n",
       "3099    26.986037  89.413849  6.260839  58.548767  watermelon"
      ]
     },
     "execution_count": 4,
     "metadata": {},
     "output_type": "execute_result"
    }
   ],
   "source": [
    "df.tail()"
   ]
  },
  {
   "cell_type": "code",
   "execution_count": 5,
   "id": "9f3537bb",
   "metadata": {},
   "outputs": [
    {
     "data": {
      "text/plain": [
       "15500"
      ]
     },
     "execution_count": 5,
     "metadata": {},
     "output_type": "execute_result"
    }
   ],
   "source": [
    "df.size"
   ]
  },
  {
   "cell_type": "code",
   "execution_count": 6,
   "id": "6a16b137",
   "metadata": {},
   "outputs": [
    {
     "data": {
      "text/plain": [
       "(3100, 5)"
      ]
     },
     "execution_count": 6,
     "metadata": {},
     "output_type": "execute_result"
    }
   ],
   "source": [
    "df.shape"
   ]
  },
  {
   "cell_type": "code",
   "execution_count": 7,
   "id": "78ffc9ea",
   "metadata": {},
   "outputs": [
    {
     "data": {
      "text/plain": [
       "Index(['temperature', 'humidity', 'ph', 'rainfall', 'label'], dtype='object')"
      ]
     },
     "execution_count": 7,
     "metadata": {},
     "output_type": "execute_result"
    }
   ],
   "source": [
    "df.columns"
   ]
  },
  {
   "cell_type": "code",
   "execution_count": 8,
   "id": "b17483c6",
   "metadata": {},
   "outputs": [
    {
     "data": {
      "text/plain": [
       "array(['rice', 'wheat', 'Mung Bean', 'Tea', 'millet', 'maize', 'Lentil',\n",
       "       'Jute', 'Coffee', 'Cotton', 'Ground Nut', 'Peas', 'Rubber',\n",
       "       'Sugarcane', 'Tobacco', 'Kidney Beans', 'Moth Beans', 'Coconut',\n",
       "       'Black gram', 'Adzuki Beans', 'Pigeon Peas', 'Chickpea', 'banana',\n",
       "       'grapes', 'apple', 'mango', 'muskmelon', 'orange', 'papaya',\n",
       "       'pomegranate', 'watermelon'], dtype=object)"
      ]
     },
     "execution_count": 8,
     "metadata": {},
     "output_type": "execute_result"
    }
   ],
   "source": [
    "df['label'].unique()"
   ]
  },
  {
   "cell_type": "code",
   "execution_count": 9,
   "id": "a488c2d2",
   "metadata": {},
   "outputs": [
    {
     "data": {
      "text/plain": [
       "temperature    float64\n",
       "humidity       float64\n",
       "ph             float64\n",
       "rainfall       float64\n",
       "label           object\n",
       "dtype: object"
      ]
     },
     "execution_count": 9,
     "metadata": {},
     "output_type": "execute_result"
    }
   ],
   "source": [
    "df.dtypes"
   ]
  },
  {
   "cell_type": "code",
   "execution_count": 10,
   "id": "f26f047c",
   "metadata": {},
   "outputs": [
    {
     "data": {
      "text/plain": [
       "rice            100\n",
       "Moth Beans      100\n",
       "pomegranate     100\n",
       "papaya          100\n",
       "orange          100\n",
       "muskmelon       100\n",
       "mango           100\n",
       "apple           100\n",
       "grapes          100\n",
       "banana          100\n",
       "Chickpea        100\n",
       "Pigeon Peas     100\n",
       "Adzuki Beans    100\n",
       "Black gram      100\n",
       "Coconut         100\n",
       "Kidney Beans    100\n",
       "wheat           100\n",
       "Tobacco         100\n",
       "Sugarcane       100\n",
       "Rubber          100\n",
       "Peas            100\n",
       "Ground Nut      100\n",
       "Cotton          100\n",
       "Coffee          100\n",
       "Jute            100\n",
       "Lentil          100\n",
       "maize           100\n",
       "millet          100\n",
       "Tea             100\n",
       "Mung Bean       100\n",
       "watermelon      100\n",
       "Name: label, dtype: int64"
      ]
     },
     "execution_count": 10,
     "metadata": {},
     "output_type": "execute_result"
    }
   ],
   "source": [
    "df['label'].value_counts()"
   ]
  },
  {
   "cell_type": "code",
   "execution_count": 11,
   "id": "33ef55e4",
   "metadata": {},
   "outputs": [
    {
     "data": {
      "text/plain": [
       "<AxesSubplot:>"
      ]
     },
     "execution_count": 11,
     "metadata": {},
     "output_type": "execute_result"
    },
    {
     "data": {
      "image/png": "[encoded data removed]",
      "text/plain": [
       "<Figure size 432x288 with 2 Axes>"
      ]
     },
     "metadata": {
      "needs_background": "light"
     },
     "output_type": "display_data"
    }
   ],
   "source": [
    "sns.heatmap(df.corr(),annot=True)"
   ]
  },
  {
   "cell_type": "markdown",
   "id": "47458f1b",
   "metadata": {},
   "source": [
    "# Seperating features and target label"
   ]
  },
  {
   "cell_type": "code",
   "execution_count": 12,
   "id": "e7f42245",
   "metadata": {},
   "outputs": [],
   "source": [
    "features = df[['temperature', 'humidity', 'ph', 'rainfall']]\n",
    "target = df['label']\n",
    "labels = df['label']"
   ]
  },
  {
   "cell_type": "code",
   "execution_count": 13,
   "id": "3388676c",
   "metadata": {},
   "outputs": [],
   "source": [
    "# Initializing empty lists to append all model's name and corresponding name\n",
    "acc = []\n",
    "model = []"
   ]
  },
  {
   "cell_type": "code",
   "execution_count": 14,
   "id": "79a07732",
   "metadata": {},
   "outputs": [],
   "source": [
    "# Splitting into train and test data\n",
    "\n",
    "from sklearn.model_selection import train_test_split\n",
    "Xtrain, Xtest, Ytrain, Ytest = train_test_split(features,target,test_size = 0.2,random_state =2)"
   ]
  },
  {
   "cell_type": "markdown",
   "id": "7178e0d3",
   "metadata": {},
   "source": [
    "# Decision Tree"
   ]
  },
  {
   "cell_type": "code",
   "execution_count": 16,
   "id": "fdabdbc6",
   "metadata": {},
   "outputs": [
    {
     "name": "stdout",
     "output_type": "stream",
     "text": [
      "DecisionTrees's Accuracy is:  67.58064516129032\n",
      "              precision    recall  f1-score   support\n",
      "\n",
      "Adzuki Beans       0.00      0.00      0.00        19\n",
      "  Black gram       0.49      1.00      0.66        21\n",
      "    Chickpea       0.96      1.00      0.98        22\n",
      "     Coconut       0.95      1.00      0.98        20\n",
      "      Coffee       0.33      1.00      0.50        15\n",
      "      Cotton       1.00      0.33      0.50        15\n",
      "  Ground Nut       0.39      0.74      0.51        19\n",
      "        Jute       0.00      0.00      0.00        19\n",
      "Kidney Beans       1.00      0.94      0.97        17\n",
      "      Lentil       0.79      1.00      0.88        19\n",
      "  Moth Beans       0.79      0.48      0.59        23\n",
      "   Mung Bean       1.00      1.00      1.00        20\n",
      "        Peas       1.00      1.00      1.00        17\n",
      " Pigeon Peas       0.00      0.00      0.00        23\n",
      "      Rubber       0.00      0.00      0.00        24\n",
      "   Sugarcane       0.50      0.86      0.63        14\n",
      "         Tea       0.42      1.00      0.59        19\n",
      "     Tobacco       0.67      0.95      0.78        21\n",
      "       apple       0.77      1.00      0.87        17\n",
      "      banana       0.74      0.89      0.81        19\n",
      "      grapes       0.71      1.00      0.83        17\n",
      "       maize       0.00      0.00      0.00        23\n",
      "       mango       0.50      0.68      0.58        25\n",
      "      millet       1.00      1.00      1.00        13\n",
      "   muskmelon       1.00      1.00      1.00        20\n",
      "      orange       0.50      0.28      0.36        25\n",
      "      papaya       0.68      0.93      0.79        28\n",
      " pomegranate       0.71      0.55      0.62        22\n",
      "        rice       0.69      1.00      0.81        22\n",
      "  watermelon       1.00      1.00      1.00        20\n",
      "       wheat       0.00      0.00      0.00        22\n",
      "\n",
      "    accuracy                           0.68       620\n",
      "   macro avg       0.60      0.70      0.62       620\n",
      "weighted avg       0.58      0.68      0.60       620\n",
      "\n"
     ]
    }
   ],
   "source": [
    "from sklearn.tree import DecisionTreeClassifier\n",
    "\n",
    "DecisionTree = DecisionTreeClassifier(criterion=\"entropy\",random_state=2,max_depth=5)\n",
    "\n",
    "DecisionTree.fit(Xtrain,Ytrain)\n",
    "\n",
    "predicted_values = DecisionTree.predict(Xtest)\n",
    "x = metrics.accuracy_score(Ytest, predicted_values)\n",
    "acc.append(x)\n",
    "model.append('Decision Tree')\n",
    "print(\"DecisionTrees's Accuracy is: \", x*100)\n",
    "\n",
    "print(classification_report(Ytest,predicted_values))"
   ]
  },
  {
   "cell_type": "code",
   "execution_count": 17,
   "id": "05fc195d",
   "metadata": {},
   "outputs": [],
   "source": [
    "from sklearn.model_selection import cross_val_score"
   ]
  },
  {
   "cell_type": "code",
   "execution_count": 18,
   "id": "cd376dcc",
   "metadata": {},
   "outputs": [],
   "source": [
    "# Cross validation score (Decision Tree)\n",
    "score = cross_val_score(DecisionTree, features, target,cv=5)"
   ]
  },
  {
   "cell_type": "code",
   "execution_count": 19,
   "id": "3c8fccfc",
   "metadata": {},
   "outputs": [
    {
     "data": {
      "text/plain": [
       "array([0.66451613, 0.68709677, 0.69032258, 0.70322581, 0.71290323])"
      ]
     },
     "execution_count": 19,
     "metadata": {},
     "output_type": "execute_result"
    }
   ],
   "source": [
    "score"
   ]
  },
  {
   "cell_type": "markdown",
   "id": "7b126b0f",
   "metadata": {},
   "source": [
    "# Saving trained Decision Tree model"
   ]
  },
  {
   "cell_type": "code",
   "execution_count": 20,
   "id": "11388184",
   "metadata": {},
   "outputs": [],
   "source": [
    "import pickle\n",
    "# Dump the trained Naive Bayes classifier with Pickle\n",
    "DT_pkl_filename = 'DecisionTree.pkl'\n",
    "# Open the file to save as pkl file\n",
    "DT_Model_pkl = open(DT_pkl_filename, 'wb')\n",
    "pickle.dump(DecisionTree, DT_Model_pkl)\n",
    "# Close the pickle instances\n",
    "DT_Model_pkl.close()"
   ]
  },
  {
   "cell_type": "markdown",
   "id": "bc423f16",
   "metadata": {},
   "source": [
    "# Guassian Naive Bayes"
   ]
  },
  {
   "cell_type": "code",
   "execution_count": 21,
   "id": "64353ece",
   "metadata": {},
   "outputs": [
    {
     "name": "stdout",
     "output_type": "stream",
     "text": [
      "Naive Bayes's Accuracy is:  0.932258064516129\n",
      "              precision    recall  f1-score   support\n",
      "\n",
      "Adzuki Beans       1.00      1.00      1.00        19\n",
      "  Black gram       1.00      1.00      1.00        21\n",
      "    Chickpea       1.00      1.00      1.00        22\n",
      "     Coconut       1.00      1.00      1.00        20\n",
      "      Coffee       0.79      0.73      0.76        15\n",
      "      Cotton       0.86      0.80      0.83        15\n",
      "  Ground Nut       0.95      1.00      0.97        19\n",
      "        Jute       0.85      0.89      0.87        19\n",
      "Kidney Beans       1.00      1.00      1.00        17\n",
      "      Lentil       0.95      1.00      0.97        19\n",
      "  Moth Beans       1.00      0.91      0.95        23\n",
      "   Mung Bean       1.00      1.00      1.00        20\n",
      "        Peas       1.00      1.00      1.00        17\n",
      " Pigeon Peas       0.94      0.74      0.83        23\n",
      "      Rubber       0.96      0.92      0.94        24\n",
      "   Sugarcane       0.92      0.86      0.89        14\n",
      "         Tea       0.95      1.00      0.97        19\n",
      "     Tobacco       1.00      1.00      1.00        21\n",
      "       apple       0.84      0.94      0.89        17\n",
      "      banana       0.90      0.95      0.92        19\n",
      "      grapes       0.85      1.00      0.92        17\n",
      "       maize       0.82      0.78      0.80        23\n",
      "       mango       0.92      0.96      0.94        25\n",
      "      millet       1.00      1.00      1.00        13\n",
      "   muskmelon       1.00      1.00      1.00        20\n",
      "      orange       0.96      0.88      0.92        25\n",
      "      papaya       0.93      0.96      0.95        28\n",
      " pomegranate       0.90      0.82      0.86        22\n",
      "        rice       0.95      0.95      0.95        22\n",
      "  watermelon       1.00      1.00      1.00        20\n",
      "       wheat       0.69      0.82      0.75        22\n",
      "\n",
      "    accuracy                           0.93       620\n",
      "   macro avg       0.93      0.93      0.93       620\n",
      "weighted avg       0.93      0.93      0.93       620\n",
      "\n"
     ]
    }
   ],
   "source": [
    "from sklearn.naive_bayes import GaussianNB\n",
    "\n",
    "NaiveBayes = GaussianNB()\n",
    "\n",
    "NaiveBayes.fit(Xtrain,Ytrain)\n",
    "\n",
    "predicted_values = NaiveBayes.predict(Xtest)\n",
    "x = metrics.accuracy_score(Ytest, predicted_values)\n",
    "acc.append(x)\n",
    "model.append('Naive Bayes')\n",
    "print(\"Naive Bayes's Accuracy is: \", x)\n",
    "\n",
    "print(classification_report(Ytest,predicted_values))"
   ]
  },
  {
   "cell_type": "code",
   "execution_count": 22,
   "id": "dc8b3c11",
   "metadata": {},
   "outputs": [
    {
     "data": {
      "text/plain": [
       "array([0.93548387, 0.93064516, 0.94193548, 0.92580645, 0.94193548])"
      ]
     },
     "execution_count": 22,
     "metadata": {},
     "output_type": "execute_result"
    }
   ],
   "source": [
    "# Cross validation score (NaiveBayes)\n",
    "score = cross_val_score(NaiveBayes,features,target,cv=5)\n",
    "score"
   ]
  },
  {
   "cell_type": "code",
   "execution_count": 23,
   "id": "e267b837",
   "metadata": {},
   "outputs": [],
   "source": [
    "import pickle\n",
    "# Dump the trained Naive Bayes classifier with Pickle\n",
    "NB_pkl_filename = 'NBClassifier.pkl'\n",
    "# Open the file to save as pkl file\n",
    "NB_Model_pkl = open(NB_pkl_filename, 'wb')\n",
    "pickle.dump(NaiveBayes, NB_Model_pkl)\n",
    "# Close the pickle instances\n",
    "NB_Model_pkl.close()"
   ]
  },
  {
   "cell_type": "markdown",
   "id": "e21e4938",
   "metadata": {},
   "source": [
    "# Support Vector Machine (SVM)"
   ]
  },
  {
   "cell_type": "code",
   "execution_count": 24,
   "id": "b8d96a4d",
   "metadata": {},
   "outputs": [
    {
     "name": "stdout",
     "output_type": "stream",
     "text": [
      "SVM's Accuracy is:  0.6774193548387096\n",
      "              precision    recall  f1-score   support\n",
      "\n",
      "Adzuki Beans       1.00      0.11      0.19        19\n",
      "  Black gram       0.81      0.81      0.81        21\n",
      "    Chickpea       1.00      0.91      0.95        22\n",
      "     Coconut       1.00      0.70      0.82        20\n",
      "      Coffee       0.80      0.53      0.64        15\n",
      "      Cotton       0.80      0.53      0.64        15\n",
      "  Ground Nut       0.77      0.53      0.62        19\n",
      "        Jute       0.82      0.74      0.78        19\n",
      "Kidney Beans       1.00      0.71      0.83        17\n",
      "      Lentil       0.86      0.63      0.73        19\n",
      "  Moth Beans       0.90      0.39      0.55        23\n",
      "   Mung Bean       1.00      0.90      0.95        20\n",
      "        Peas       1.00      1.00      1.00        17\n",
      " Pigeon Peas       0.13      0.91      0.23        23\n",
      "      Rubber       1.00      0.08      0.15        24\n",
      "   Sugarcane       0.60      0.43      0.50        14\n",
      "         Tea       0.81      0.68      0.74        19\n",
      "     Tobacco       0.89      0.81      0.85        21\n",
      "       apple       0.70      0.82      0.76        17\n",
      "      banana       0.88      0.79      0.83        19\n",
      "      grapes       0.76      0.76      0.76        17\n",
      "       maize       0.71      0.52      0.60        23\n",
      "       mango       0.96      0.92      0.94        25\n",
      "      millet       1.00      1.00      1.00        13\n",
      "   muskmelon       1.00      1.00      1.00        20\n",
      "      orange       0.89      0.64      0.74        25\n",
      "      papaya       0.82      0.32      0.46        28\n",
      " pomegranate       0.84      0.73      0.78        22\n",
      "        rice       1.00      0.68      0.81        22\n",
      "  watermelon       0.95      1.00      0.98        20\n",
      "       wheat       0.56      0.64      0.60        22\n",
      "\n",
      "    accuracy                           0.68       620\n",
      "   macro avg       0.85      0.68      0.72       620\n",
      "weighted avg       0.85      0.68      0.71       620\n",
      "\n"
     ]
    }
   ],
   "source": [
    "from sklearn.svm import SVC\n",
    "\n",
    "SVM = SVC(gamma='auto')\n",
    "\n",
    "SVM.fit(Xtrain,Ytrain)\n",
    "\n",
    "predicted_values = SVM.predict(Xtest)\n",
    "\n",
    "x = metrics.accuracy_score(Ytest, predicted_values)\n",
    "acc.append(x)\n",
    "model.append('SVM')\n",
    "print(\"SVM's Accuracy is: \", x)\n",
    "\n",
    "print(classification_report(Ytest,predicted_values))"
   ]
  },
  {
   "cell_type": "code",
   "execution_count": 25,
   "id": "01395f6a",
   "metadata": {},
   "outputs": [
    {
     "data": {
      "text/plain": [
       "array([0.71612903, 0.70645161, 0.69677419, 0.69193548, 0.6483871 ])"
      ]
     },
     "execution_count": 25,
     "metadata": {},
     "output_type": "execute_result"
    }
   ],
   "source": [
    "# Cross validation score (SVM)\n",
    "score = cross_val_score(SVM,features,target,cv=5)\n",
    "score"
   ]
  },
  {
   "cell_type": "markdown",
   "id": "312f7993",
   "metadata": {},
   "source": [
    "# Logistic Regression"
   ]
  },
  {
   "cell_type": "code",
   "execution_count": 26,
   "id": "79515c59",
   "metadata": {},
   "outputs": [
    {
     "name": "stdout",
     "output_type": "stream",
     "text": [
      "Logistic Regression's Accuracy is:  0.5919354838709677\n",
      "              precision    recall  f1-score   support\n",
      "\n",
      "Adzuki Beans       1.00      1.00      1.00        19\n",
      "  Black gram       0.52      0.57      0.55        21\n",
      "    Chickpea       0.86      0.86      0.86        22\n",
      "     Coconut       0.74      0.85      0.79        20\n",
      "      Coffee       0.37      0.47      0.41        15\n",
      "      Cotton       0.32      0.47      0.38        15\n",
      "  Ground Nut       0.42      0.42      0.42        19\n",
      "        Jute       0.53      0.53      0.53        19\n",
      "Kidney Beans       0.85      0.65      0.73        17\n",
      "      Lentil       0.59      0.53      0.56        19\n",
      "  Moth Beans       0.58      0.48      0.52        23\n",
      "   Mung Bean       0.59      0.50      0.54        20\n",
      "        Peas       0.85      1.00      0.92        17\n",
      " Pigeon Peas       0.56      0.43      0.49        23\n",
      "      Rubber       0.62      0.67      0.64        24\n",
      "   Sugarcane       0.28      0.57      0.37        14\n",
      "         Tea       0.50      0.53      0.51        19\n",
      "     Tobacco       0.80      0.38      0.52        21\n",
      "       apple       0.45      1.00      0.62        17\n",
      "      banana       0.50      0.63      0.56        19\n",
      "      grapes       0.44      0.88      0.59        17\n",
      "       maize       0.36      0.17      0.24        23\n",
      "       mango       0.84      0.84      0.84        25\n",
      "      millet       1.00      1.00      1.00        13\n",
      "   muskmelon       1.00      1.00      1.00        20\n",
      "      orange       0.29      0.16      0.21        25\n",
      "      papaya       0.60      0.21      0.32        28\n",
      " pomegranate       0.17      0.05      0.07        22\n",
      "        rice       0.76      0.86      0.81        22\n",
      "  watermelon       0.65      0.85      0.74        20\n",
      "       wheat       0.42      0.36      0.39        22\n",
      "\n",
      "    accuracy                           0.59       620\n",
      "   macro avg       0.59      0.61      0.58       620\n",
      "weighted avg       0.59      0.59      0.57       620\n",
      "\n"
     ]
    }
   ],
   "source": [
    "from sklearn.linear_model import LogisticRegression\n",
    "\n",
    "LogReg = LogisticRegression(random_state=2)\n",
    "\n",
    "LogReg.fit(Xtrain,Ytrain)\n",
    "\n",
    "predicted_values = LogReg.predict(Xtest)\n",
    "\n",
    "x = metrics.accuracy_score(Ytest, predicted_values)\n",
    "acc.append(x)\n",
    "model.append('Logistic Regression')\n",
    "print(\"Logistic Regression's Accuracy is: \", x)\n",
    "\n",
    "print(classification_report(Ytest,predicted_values))"
   ]
  },
  {
   "cell_type": "code",
   "execution_count": 27,
   "id": "76b86ce8",
   "metadata": {},
   "outputs": [
    {
     "data": {
      "text/plain": [
       "array([0.60645161, 0.6       , 0.59677419, 0.61290323, 0.57419355])"
      ]
     },
     "execution_count": 27,
     "metadata": {},
     "output_type": "execute_result"
    }
   ],
   "source": [
    "# Cross validation score (Logistic Regression)\n",
    "score = cross_val_score(LogReg,features,target,cv=5)\n",
    "score"
   ]
  },
  {
   "cell_type": "code",
   "execution_count": 28,
   "id": "d736a32b",
   "metadata": {},
   "outputs": [],
   "source": [
    "import pickle\n",
    "# Dump the trained Naive Bayes classifier with Pickle\n",
    "LR_pkl_filename = 'LogisticRegression.pkl'\n",
    "# Open the file to save as pkl file\n",
    "LR_Model_pkl = open(DT_pkl_filename, 'wb')\n",
    "pickle.dump(LogReg, LR_Model_pkl)\n",
    "# Close the pickle instances\n",
    "LR_Model_pkl.close()"
   ]
  },
  {
   "cell_type": "markdown",
   "id": "64ecc321",
   "metadata": {},
   "source": [
    "# Random Forest"
   ]
  },
  {
   "cell_type": "code",
   "execution_count": 29,
   "id": "74e20950",
   "metadata": {},
   "outputs": [
    {
     "name": "stdout",
     "output_type": "stream",
     "text": [
      "RF's Accuracy is:  0.9387096774193548\n",
      "              precision    recall  f1-score   support\n",
      "\n",
      "Adzuki Beans       1.00      1.00      1.00        19\n",
      "  Black gram       1.00      1.00      1.00        21\n",
      "    Chickpea       0.96      1.00      0.98        22\n",
      "     Coconut       1.00      1.00      1.00        20\n",
      "      Coffee       0.93      0.93      0.93        15\n",
      "      Cotton       1.00      0.87      0.93        15\n",
      "  Ground Nut       0.89      0.89      0.89        19\n",
      "        Jute       0.81      0.89      0.85        19\n",
      "Kidney Beans       1.00      0.94      0.97        17\n",
      "      Lentil       0.86      1.00      0.93        19\n",
      "  Moth Beans       1.00      0.83      0.90        23\n",
      "   Mung Bean       1.00      1.00      1.00        20\n",
      "        Peas       1.00      1.00      1.00        17\n",
      " Pigeon Peas       1.00      0.78      0.88        23\n",
      "      Rubber       0.96      1.00      0.98        24\n",
      "   Sugarcane       0.85      0.79      0.81        14\n",
      "         Tea       1.00      0.95      0.97        19\n",
      "     Tobacco       0.95      1.00      0.98        21\n",
      "       apple       0.89      1.00      0.94        17\n",
      "      banana       0.95      0.95      0.95        19\n",
      "      grapes       0.89      1.00      0.94        17\n",
      "       maize       0.80      0.87      0.83        23\n",
      "       mango       0.96      1.00      0.98        25\n",
      "      millet       1.00      1.00      1.00        13\n",
      "   muskmelon       1.00      1.00      1.00        20\n",
      "      orange       0.95      0.84      0.89        25\n",
      "      papaya       0.90      0.96      0.93        28\n",
      " pomegranate       0.95      0.91      0.93        22\n",
      "        rice       0.95      0.91      0.93        22\n",
      "  watermelon       1.00      1.00      1.00        20\n",
      "       wheat       0.75      0.82      0.78        22\n",
      "\n",
      "    accuracy                           0.94       620\n",
      "   macro avg       0.94      0.94      0.94       620\n",
      "weighted avg       0.94      0.94      0.94       620\n",
      "\n"
     ]
    }
   ],
   "source": [
    "from sklearn.ensemble import RandomForestClassifier\n",
    "\n",
    "RF = RandomForestClassifier(n_estimators=20, random_state=0)\n",
    "RF.fit(Xtrain,Ytrain)\n",
    "\n",
    "predicted_values = RF.predict(Xtest)\n",
    "\n",
    "x = metrics.accuracy_score(Ytest, predicted_values)\n",
    "acc.append(x)\n",
    "model.append('RF')\n",
    "print(\"RF's Accuracy is: \", x)\n",
    "\n",
    "print(classification_report(Ytest,predicted_values))"
   ]
  },
  {
   "cell_type": "code",
   "execution_count": 30,
   "id": "b59be00c",
   "metadata": {},
   "outputs": [
    {
     "data": {
      "text/plain": [
       "array([0.94516129, 0.94677419, 0.94354839, 0.93709677, 0.94032258])"
      ]
     },
     "execution_count": 30,
     "metadata": {},
     "output_type": "execute_result"
    }
   ],
   "source": [
    "# Cross validation score (Random Forest)\n",
    "score = cross_val_score(RF,features,target,cv=5)\n",
    "score"
   ]
  },
  {
   "cell_type": "code",
   "execution_count": 31,
   "id": "0d9031cd",
   "metadata": {},
   "outputs": [],
   "source": [
    "import pickle\n",
    "# Dump the trained Naive Bayes classifier with Pickle\n",
    "RF_pkl_filename = 'RandomForest.pkl'\n",
    "# Open the file to save as pkl file\n",
    "RF_Model_pkl = open(RF_pkl_filename, 'wb')\n",
    "pickle.dump(RF, RF_Model_pkl)\n",
    "# Close the pickle instances\n",
    "RF_Model_pkl.close()"
   ]
  },
  {
   "cell_type": "markdown",
   "id": "db71113c",
   "metadata": {},
   "source": [
    "# Accuracy Comparison"
   ]
  },
  {
   "cell_type": "code",
   "execution_count": 37,
   "id": "1e44c117",
   "metadata": {},
   "outputs": [
    {
     "data": {
      "text/plain": [
       "<AxesSubplot:title={'center':'Accuracy Comparison'}, xlabel='Accuracy', ylabel='Algorithm'>"
      ]
     },
     "execution_count": 37,
     "metadata": {},
     "output_type": "execute_result"
    },
    {
     "data": {
      "image/png": "[encoded data removed]",
      "text/plain": [
       "<Figure size 1000x500 with 1 Axes>"
      ]
     },
     "metadata": {
      "needs_background": "light"
     },
     "output_type": "display_data"
    }
   ],
   "source": [
    "plt.figure(figsize=[10,5],dpi = 100)\n",
    "plt.title('Accuracy Comparison')\n",
    "plt.xlabel('Accuracy')\n",
    "plt.ylabel('Algorithm')\n",
    "sns.barplot(x = acc,y = model,palette='dark')"
   ]
  },
  {
   "cell_type": "code",
   "execution_count": 38,
   "id": "62694183",
   "metadata": {},
   "outputs": [
    {
     "name": "stdout",
     "output_type": "stream",
     "text": [
      "Decision Tree --> 0.6758064516129032\n",
      "Naive Bayes --> 0.932258064516129\n",
      "SVM --> 0.6774193548387096\n",
      "Logistic Regression --> 0.5919354838709677\n",
      "RF --> 0.9387096774193548\n"
     ]
    }
   ],
   "source": [
    "accuracy_models = dict(zip(model, acc))\n",
    "for k, v in accuracy_models.items():\n",
    "    print (k, '-->', v)"
   ]
  },
  {
   "cell_type": "markdown",
   "id": "1bdac99b",
   "metadata": {},
   "source": [
    "# Making a prediction"
   ]
  },
  {
   "cell_type": "code",
   "execution_count": 40,
   "id": "e8e31724",
   "metadata": {},
   "outputs": [
    {
     "name": "stdout",
     "output_type": "stream",
     "text": [
      "['wheat']\n"
     ]
    }
   ],
   "source": [
    "data = np.array([[27.50568957,54.01820397,6.161839979,114.8541306]])\n",
    "prediction = RF.predict(data)\n",
    "print(prediction)"
   ]
  },
  {
   "cell_type": "code",
   "execution_count": 41,
   "id": "f4d473de",
   "metadata": {},
   "outputs": [
    {
     "name": "stdout",
     "output_type": "stream",
     "text": [
      "['Tea']\n"
     ]
    }
   ],
   "source": [
    "data = np.array([[21.68623299,55.48736922,4.5025967,156.5019951]])\n",
    "prediction = RF.predict(data)\n",
    "print(prediction)"
   ]
  },
  {
   "cell_type": "code",
   "execution_count": null,
   "id": "6ea284e0",
   "metadata": {},
   "outputs": [],
   "source": []
  }
 ],
 "metadata": {
  "kernelspec": {
   "display_name": "Python 3 (ipykernel)",
   "language": "python",
   "name": "python3"
  },
  "language_info": {
   "codemirror_mode": {
    "name": "ipython",
    "version": 3
   },
   "file_extension": ".py",
   "mimetype": "text/x-python",
   "name": "python",
   "nbconvert_exporter": "python",
   "pygments_lexer": "ipython3",
   "version": "3.9.12"
  }
 },
 "nbformat": 4,
 "nbformat_minor": 5
}
